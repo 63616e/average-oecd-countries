{
 "cells": [
  {
   "cell_type": "code",
   "execution_count": 12,
   "metadata": {},
   "outputs": [],
   "source": [
    "# import pandas \n",
    "import pandas as pd\n",
    "# import numpy as np\n",
    "\n",
    "\n",
    "#set all datasets as separate variables and dfs\n",
    "\n",
    "\n",
    "df_gdp = pd.read_csv('./datasets/gdppc.csv', on_bad_lines='skip')\n",
    "df_happiness = pd.read_csv('./datasets/happiness.csv', on_bad_lines='skip')\n",
    "df_hdi = pd.read_csv('./datasets/hdi.csv', on_bad_lines='skip')\n",
    "df_population = pd.read_csv('./datasets/population.csv', on_bad_lines='skip')\n",
    "df_landmass = pd.read_csv('./datasets/landmass.csv', on_bad_lines='skip')\n",
    "df_qol = pd.read_csv('./datasets/qol_2021.csv', on_bad_lines='skip')"
   ]
  },
  {
   "cell_type": "code",
   "execution_count": 13,
   "metadata": {},
   "outputs": [],
   "source": [
    "# there's only a couple of countries in oecd  which are these:\n",
    "# Austria, Australia, Belgium, Canada, Chile, Colombia, Costa Rica, Czech Republic, Denmark, Estonia, Finland, France, Germany, Greece, Hungary, Iceland, Ireland, Israel, Italy, Japan, Korea, Latvia, Lithuania, Luxembourg, Mexico, the Netherlands, New Zealand, Norway, Poland, Portugal, Slovak Republic, Slovenia, Spain, Sweden, Switzerland, Turkey, the United Kingdom and the United States\n",
    "oecd_countries = ['Austria', 'Australia', 'Belgium', 'Canada', 'Chile', 'Colombia', 'Costa Rica', 'Czech Republic', 'Denmark', 'Estonia', 'Finland', 'France', 'Germany', 'Greece', 'Hungary', 'Iceland', 'Ireland', 'Israel', 'Italy', 'Japan',\n",
    "                  'Korea, Rep.', 'Latvia', 'Lithuania', 'Luxembourg', 'Mexico', 'Netherlands', 'New Zealand', 'Norway', 'Poland', 'Portugal', 'Slovak Republic', 'Slovenia', 'Spain', 'Sweden', 'Switzerland', 'Turkey', 'United Kingdom', 'United States']\n",
    "# we don't care about the stats of other countries, so we'll just erase them. "
   ]
  },
  {
   "cell_type": "code",
   "execution_count": 14,
   "metadata": {},
   "outputs": [
    {
     "name": "stdout",
     "output_type": "stream",
     "text": [
      "38\n"
     ]
    },
    {
     "data": {
      "text/plain": [
       "Country Name     France\n",
       "Combined        39804.5\n",
       "Name: 77, dtype: object"
      ]
     },
     "execution_count": 14,
     "metadata": {},
     "output_type": "execute_result"
    }
   ],
   "source": [
    "# we only want the oecd countries\n",
    "#drop the indicator code etc\n",
    "df_gdp.drop(['Indicator Code', 'Indicator Name', 'Country Code', '1960', '1961', '1962', '1963', '1964', '1965', '1966', '1967', '1968', '1969', '1970', '1971', '1972', '1973', '1974', '1975', '1976', '1977', '1978', '1979', '1980', '1981', '1982', '1983', '1984', '1985', '1986',\n",
    "            '1987', '1988', '1989', '1990', '1991', '1992', '1993', '1994', '1995', '1996', '1997', '1998', '1999', '2000', '2001', '2002', '2003', '2004', '2005', '2006', '2007', '2008', '2009', '2010', '2011', '2012', '2013', '2014', '2015', '2016', '2017', '2018', ], axis=1, inplace=True)\n",
    "df_gdp = df_gdp.loc[df_gdp['Country Name'].isin(oecd_countries)]\n",
    "\n",
    "#nice! we have all the countries\n",
    "print(len(df_gdp))\n",
    "# average the 2019 and 2020 data and write it as a new column\n",
    "\n",
    "df_gdp['Combined'] = (df_gdp['2019'] + df_gdp['2020'])/2\n",
    "df_gdp = df_gdp.drop(['2019', '2020'], axis=1)\n",
    "\n",
    "\n",
    "df_gdp = df_gdp.round(2)\n",
    "df_gdp = df_gdp.sort_values(by=['Combined'], ascending=False)\n",
    "#find the middle of the list\n",
    "df_gdp_average = df_gdp.iloc[len(df_gdp)//2]\n",
    "df_gdp_average\n",
    "\n",
    "\n"
   ]
  },
  {
   "cell_type": "code",
   "execution_count": 15,
   "metadata": {},
   "outputs": [
    {
     "name": "stdout",
     "output_type": "stream",
     "text": [
      "38\n"
     ]
    },
    {
     "data": {
      "text/plain": [
       "country     Belgium\n",
       "Combined       6.85\n",
       "Name: 19, dtype: object"
      ]
     },
     "execution_count": 15,
     "metadata": {},
     "output_type": "execute_result"
    }
   ],
   "source": [
    "# happiness index have different names for the us and korea\n",
    "oecd_countries += ['South Korea', 'United States', 'Slovakia']\n",
    "df_happiness = df_happiness.loc[df_happiness['country'].isin(oecd_countries)]\n",
    "print(len(df_happiness))\n",
    "\n",
    "df_happiness.drop(['rank','pop2022'], axis=1, inplace=True)\n",
    "# add the values in happiness2021 to happiness2020 and write it as a new column\n",
    "\n",
    "df_happiness['Combined'] = (df_happiness['happiness2021'] + df_happiness['happiness2020'])/2\n",
    "\n",
    "df_happiness.drop(['happiness2021', 'happiness2020'], axis=1, inplace=True)\n",
    "\n",
    "df_happiness = df_happiness.round(2)\n",
    "\n",
    "df_happiness.sort_values(by=['Combined'], ascending=False)\n",
    "\n",
    "\n",
    "df_happiness_average = df_happiness.iloc[len(df_happiness)//2]\n",
    "\n",
    "df_happiness_average"
   ]
  },
  {
   "cell_type": "code",
   "execution_count": 16,
   "metadata": {},
   "outputs": [
    {
     "name": "stdout",
     "output_type": "stream",
     "text": [
      "38\n"
     ]
    },
    {
     "data": {
      "text/plain": [
       "HDI Rank             23\n",
       "Country     South Korea\n",
       "2019              0.916\n",
       "Name: 90, dtype: object"
      ]
     },
     "execution_count": 16,
     "metadata": {},
     "output_type": "execute_result"
    }
   ],
   "source": [
    "df_hdi = df_hdi[['HDI Rank', 'Country', '2019']]\n",
    "\n",
    "# rank these based on hdi_rank column\n",
    "\n",
    "df_hdi = df_hdi.sort_values(by=['HDI Rank'], ascending=True)\n",
    "\n",
    "oecd_countries += ['Czechia']\n",
    "df_hdi['Country'] = df_hdi['Country'].str.lstrip()\n",
    "df_hdi = df_hdi.loc[df_hdi['Country'].isin(oecd_countries)]\n",
    "print(len(df_hdi))\n",
    "\n",
    "df_hdi['2019'] = df_hdi['2019'].astype(float)\n",
    "# order in ascending way based on 2019\n",
    "\n",
    "df_hdi = df_hdi.sort_values(by=['2019'], ascending=False)\n",
    "\n",
    "# turn 2019 values into floating points\n",
    "\n",
    "\n",
    "\n",
    "df_hdi_average = df_hdi.iloc[len(df_hdi)//2]\n",
    "\n",
    "df_hdi_average"
   ]
  },
  {
   "cell_type": "code",
   "execution_count": 17,
   "metadata": {},
   "outputs": [
    {
     "data": {
      "text/plain": [
       "Country Name     Iceland\n",
       "2020            100830.0\n",
       "Name: 114, dtype: object"
      ]
     },
     "execution_count": 17,
     "metadata": {},
     "output_type": "execute_result"
    }
   ],
   "source": [
    "df_landmass = df_landmass[['Country Name', '2020']]\n",
    "\n",
    "df_landmass = df_landmass.sort_values(by=['2020'], ascending=False)\n",
    "\n",
    "df_landmass = df_landmass = df_landmass.loc[df_landmass['Country Name'].isin(\n",
    "    oecd_countries)]\n",
    "\n",
    "\n",
    "df_landmass['2020'] = df_landmass['2020'].astype(float)\n",
    "# order in ascending way based on 2019\n",
    "\n",
    "\n",
    "# turn 2019 values into floating points\n",
    "\n",
    "\n",
    "df_landmass_average = df_landmass.iloc[len(df_landmass)//2]\n",
    "\n",
    "df_landmass_average"
   ]
  },
  {
   "cell_type": "code",
   "execution_count": 18,
   "metadata": {},
   "outputs": [
    {
     "data": {
      "text/plain": [
       "Location              Portugal\n",
       "Variant     Constant fertility\n",
       "Time                      2021\n",
       "PopTotal              10167755\n",
       "Name: 200582, dtype: object"
      ]
     },
     "execution_count": 18,
     "metadata": {},
     "output_type": "execute_result"
    }
   ],
   "source": [
    "df_population = df_population[['Location','Variant', 'Time', 'PopTotal']]\n",
    "df_population\n",
    "\n",
    "oecd_countries += ['Republic of Korea', 'United States of America']\n",
    "\n",
    "df_population = df_population = df_population.loc[df_population['Location'].isin(\n",
    "    oecd_countries)]\n",
    "\n",
    "#convert time to string\n",
    "df_population['Time'] = df_population['Time'].astype(str)\n",
    "\n",
    "# only keep the years that are 2021\n",
    "df_population = df_population[df_population.Variant == 'Constant fertility']\n",
    "df_population = df_population[df_population.Time == '2021']\n",
    "\n",
    "df_population['PopTotal'] = df_population['PopTotal'].astype(str)\n",
    "#remove the . from the popTotal \n",
    "df_population['PopTotal'] = df_population['PopTotal'].str.replace('.', '', regex=True)\n",
    "df_population['PopTotal'] = df_population['PopTotal'].astype(int)\n",
    "\n",
    "df_population = df_population.sort_values(by=['PopTotal'], ascending=False)\n",
    "\n",
    "df_population_average = df_population.iloc[len(df_population)//2]\n",
    "df_population_average"
   ]
  },
  {
   "cell_type": "code",
   "execution_count": 19,
   "metadata": {},
   "outputs": [
    {
     "data": {
      "text/plain": [
       "Country          United Kingdom\n",
       "Indicator     Life satisfaction\n",
       "Value                       6.8\n",
       "Inequality                Total\n",
       "Name: 1750, dtype: object"
      ]
     },
     "execution_count": 19,
     "metadata": {},
     "output_type": "execute_result"
    }
   ],
   "source": [
    "#qol data\n",
    "#only LIFE_SATISFACTION\n",
    "df_qol = df_qol[['Country', 'Indicator', 'Value', 'Inequality']]\n",
    "\n",
    "oecd_countries += ['Korea']\n",
    "\n",
    "df_qol = df_qol[df_qol.Indicator == 'Life satisfaction']\n",
    "df_qol = df_qol[df_qol.Inequality == 'Total']\n",
    "\n",
    "df_qol = df_qol.sort_values(by=['Value'], ascending=False)\n",
    "\n",
    "df_qol = df_qol.loc[df_qol['Country'].isin(oecd_countries)]\n",
    "\n",
    "#TODO costa rica unfortunately does not exist in the dataset\n",
    "df_qol_average = df_qol.iloc[len(df_qol)//2]\n",
    "\n",
    "df_qol_average\n",
    "\n"
   ]
  },
  {
   "cell_type": "code",
   "execution_count": 20,
   "metadata": {},
   "outputs": [
    {
     "name": "stdout",
     "output_type": "stream",
     "text": [
      "GDP\n",
      "['France' 39804.5]\n",
      "Happiness\n",
      "['Belgium' 6.85]\n",
      "HDI\n",
      "['23' 'South Korea' 0.916]\n",
      "Landmass\n",
      "['Iceland' 100830.0]\n",
      "Population\n",
      "['Portugal' 'Constant fertility' '2021' 10167755]\n",
      "Quality of Life\n",
      "['United Kingdom' 'Life satisfaction' 6.8 'Total']\n"
     ]
    }
   ],
   "source": [
    "#final \n",
    "print(\"GDP\")\n",
    "print(df_gdp_average.values)\n",
    "print(\"Happiness\")\n",
    "print(df_happiness_average.values)\n",
    "print(\"HDI\")\n",
    "print(df_hdi_average.values)\n",
    "print(\"Landmass\")\n",
    "print(df_landmass_average.values)\n",
    "print(\"Population\")\n",
    "print(df_population_average.values)\n",
    "print(\"Quality of Life\")\n",
    "print(df_qol_average.values)\n"
   ]
  }
 ],
 "metadata": {
  "interpreter": {
   "hash": "f5f61564bdc7f53415b2b505550c56a4073778d531a25cde85da04c84ebb0b38"
  },
  "kernelspec": {
   "display_name": "Python 3.9.7 ('base')",
   "language": "python",
   "name": "python3"
  },
  "language_info": {
   "codemirror_mode": {
    "name": "ipython",
    "version": 3
   },
   "file_extension": ".py",
   "mimetype": "text/x-python",
   "name": "python",
   "nbconvert_exporter": "python",
   "pygments_lexer": "ipython3",
   "version": "3.9.7"
  },
  "orig_nbformat": 4
 },
 "nbformat": 4,
 "nbformat_minor": 2
}
